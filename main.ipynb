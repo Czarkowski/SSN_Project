{
 "cells": [
  {
   "cell_type": "markdown",
   "metadata": {},
   "source": [
    "# Introduction to Machine Learning - project\n",
    "## Stanford Car Body Type Classification\n",
    "\n",
    "https://www.kaggle.com/datasets/mayurmahurkar/stanford-car-body-type-data - dataset"
   ]
  },
  {
   "cell_type": "markdown",
   "metadata": {},
   "source": [
    "Import necessary libraries and moduels"
   ]
  },
  {
   "cell_type": "code",
   "execution_count": 18,
   "metadata": {
    "ExecuteTime": {
     "end_time": "2023-11-18T11:18:36.704267800Z",
     "start_time": "2023-11-18T11:18:36.274050900Z"
    }
   },
   "outputs": [],
   "source": [
    "# import cv2\n",
    "# import os\n",
    "# import re\n",
    "import numpy as np\n",
    "import pandas as pd\n",
    "# from sklearn.model_selection import train_test_split\n",
    "# from sklearn.preprocessing import LabelEncoder\n",
    "import matplotlib.pyplot as plt\n",
    "from sklearn.model_selection import train_test_split\n",
    "# from collections import Counter\n",
    "# import tensorflow as tf\n",
    "# from tensorflow.keras.preprocessing.image import ImageDataGenerator\n",
    "# from sklearn.metrics import precision_score, recall_score, f1_score,confusion_matrix, classification_report, accuracy_score\n",
    "# import matplotlib.pyplot as plt\n",
    "# import seaborn as sns\n",
    "# from tensorflow.keras.layers import Input, Conv2D, MaxPooling2D, Flatten, Dense, Dropout, concatenate\n",
    "# from tensorflow.keras.models import Model\n",
    "# from tensorflow.keras.preprocessing.image import ImageDataGenerator\n",
    "# from sklearn.utils.class_weight import compute_class_weight\n",
    "# from tensorflow.keras.utils import to_categorical\n",
    "# from keras.regularizers import l2\n",
    "# from functools import partial\n",
    "# import keras.backend as K\n",
    "import torch\n",
    "import torch.nn as nn\n",
    "import torch.optim as optim\n",
    "import torchvision\n",
    "import torchvision.transforms as transforms\n",
    "from torch.utils.data import DataLoader, TensorDataset\n",
    "from sklearn.model_selection import train_test_split"
   ]
  },
  {
   "cell_type": "markdown",
   "metadata": {},
   "source": [
    "Definition of every funtions used in project"
   ]
  },
  {
   "cell_type": "code",
   "execution_count": 5,
   "metadata": {},
   "outputs": [],
   "source": [
    "dice_dir_csv =  'ssn2024/dice.csv'\n",
    "mnist_train_dir_csv =  'ssn2024/mnist_train.csv'\n",
    "cifar_all_dir_csv =  'ssn2024/cifar_all.csv'"
   ]
  },
  {
   "cell_type": "code",
   "execution_count": 6,
   "metadata": {},
   "outputs": [],
   "source": [
    "def ReadDiceCSV(file_dir=dice_dir_csv): \n",
    "    df = pd.read_csv(file_dir, header=None)\n",
    "\n",
    "    # Pierwsza kolumna zawiera cyfry, reszta to piksele obrazu\n",
    "    cyfry = df.iloc[:, 0]  # Pierwsza kolumna z cyframi\n",
    "    piksele_obrazu = df.iloc[:, 1:]  # Reszta kolumn to piksele obrazu\n",
    "\n",
    "    # Przekształć dane do postaci tablicy numpy\n",
    "    cyfry_array = np.array(cyfry)\n",
    "    piksele_array = np.array(piksele_obrazu)\n",
    "    return (cyfry_array, piksele_array)"
   ]
  },
  {
   "cell_type": "code",
   "execution_count": 16,
   "metadata": {},
   "outputs": [
    {
     "name": "stdout",
     "output_type": "stream",
     "text": [
      "dice:\n",
      "Label Shape: (60000,) has NAN: False\n",
      "Values : [1 2 3 4 5 6]\n",
      "Data Shape: (60000, 28, 28) has NAN: False\n",
      "Values : [  0   1   2   3   4   5   6   7   8   9  10  11  12  13  14  15  16  17\n",
      "  18  19  20  21  22  23  24  25  26  27  28  29  30  31  32  33  34  35\n",
      "  36  37  38  39  40  41  42  43  44  45  46  47  48  49  50  51  52  53\n",
      "  54  55  56  57  58  59  60  61  62  63  64  65  66  67  68  69  70  71\n",
      "  72  73  74  75  76  77  78  79  80  81  82  83  84  85  86  87  88  89\n",
      "  90  91  92  93  94  95  96  97  98  99 100 101 102 103 104 105 106 107\n",
      " 108 109 110 111 112 113 114 115 116 117 118 119 120 121 122 123 124 125\n",
      " 126 127 128 129 130 131 132 133 134 135 136 137 138 139 140 141 142 143\n",
      " 144 145 146 147 148 149 150 151 152 153 154 155 156 157 158 159 160 161\n",
      " 162 163 164 165 166 167 168 169 170 171 172 173 174 175 176 177 178 179\n",
      " 180 181 182 183 184 185 186 187 188 189 190 191 192 193 194 195 196 197\n",
      " 198 199 200 201 202 203 204 205 206 207 208 209 210 211 212 213 214 215\n",
      " 216 217 218 219 220 221 222 223 224 225 226 227 228 229 230 231 232 233\n",
      " 234 235 236 237 238 239 240 241 242 243 244 245 246 247 248 249 250 251\n",
      " 252 253 254 255]\n",
      "minst:\n",
      "Label Shape: (60000,) has NAN: False\n",
      "Values : [0 1 2 3 4 5 6 7 8 9]\n",
      "Data Shape: (60000, 28, 28) has NAN: False\n",
      "Values : [  0   1   2   3   4   5   6   7   8   9  10  11  12  13  14  15  16  17\n",
      "  18  19  20  21  22  23  24  25  26  27  28  29  30  31  32  33  34  35\n",
      "  36  37  38  39  40  41  42  43  44  45  46  47  48  49  50  51  52  53\n",
      "  54  55  56  57  58  59  60  61  62  63  64  65  66  67  68  69  70  71\n",
      "  72  73  74  75  76  77  78  79  80  81  82  83  84  85  86  87  88  89\n",
      "  90  91  92  93  94  95  96  97  98  99 100 101 102 103 104 105 106 107\n",
      " 108 109 110 111 112 113 114 115 116 117 118 119 120 121 122 123 124 125\n",
      " 126 127 128 129 130 131 132 133 134 135 136 137 138 139 140 141 142 143\n",
      " 144 145 146 147 148 149 150 151 152 153 154 155 156 157 158 159 160 161\n",
      " 162 163 164 165 166 167 168 169 170 171 172 173 174 175 176 177 178 179\n",
      " 180 181 182 183 184 185 186 187 188 189 190 191 192 193 194 195 196 197\n",
      " 198 199 200 201 202 203 204 205 206 207 208 209 210 211 212 213 214 215\n",
      " 216 217 218 219 220 221 222 223 224 225 226 227 228 229 230 231 232 233\n",
      " 234 235 236 237 238 239 240 241 242 243 244 245 246 247 248 249 250 251\n",
      " 252 253 254 255]\n",
      "cifar:\n",
      "Label Shape: (50000,) has NAN: False\n",
      "Values : [11 12 13 14 15]\n",
      "Data Shape: (50000, 28, 28) has NAN: False\n",
      "Values : [  0   1   2   3   4   5   6   7   8   9  10  11  12  13  14  15  16  17\n",
      "  18  19  20  21  22  23  24  25  26  27  28  29  30  31  32  33  34  35\n",
      "  36  37  38  39  40  41  42  43  44  45  46  47  48  49  50  51  52  53\n",
      "  54  55  56  57  58  59  60  61  62  63  64  65  66  67  68  69  70  71\n",
      "  72  73  74  75  76  77  78  79  80  81  82  83  84  85  86  87  88  89\n",
      "  90  91  92  93  94  95  96  97  98  99 100 101 102 103 104 105 106 107\n",
      " 108 109 110 111 112 113 114 115 116 117 118 119 120 121 122 123 124 125\n",
      " 126 127 128 129 130 131 132 133 134 135 136 137 138 139 140 141 142 143\n",
      " 144 145 146 147 148 149 150 151 152 153 154 155 156 157 158 159 160 161\n",
      " 162 163 164 165 166 167 168 169 170 171 172 173 174 175 176 177 178 179\n",
      " 180 181 182 183 184 185 186 187 188 189 190 191 192 193 194 195 196 197\n",
      " 198 199 200 201 202 203 204 205 206 207 208 209 210 211 212 213 214 215\n",
      " 216 217 218 219 220 221 222 223 224 225 226 227 228 229 230 231 232 233\n",
      " 234 235 236 237 238 239 240 241 242 243 244 245 246 247 248 249 250 251\n",
      " 252 253 254 255]\n"
     ]
    }
   ],
   "source": [
    "dice_y, dice_x = ReadDiceCSV(dice_dir_csv)\n",
    "dice_x = dice_x.reshape((60000, 28, -1))\n",
    "print(\"dice:\")\n",
    "print(f\"Label Shape: {dice_y.shape} has NAN: {np.isnan(dice_y).any()}\")\n",
    "print(f\"Values : {np.unique(dice_y)}\")\n",
    "print(f\"Data Shape: {dice_x.shape} has NAN: {np.isnan(dice_x).any()}\")\n",
    "print(f\"Values : {np.unique(dice_x)}\")\n",
    "\n",
    "mnist_y, mnist_x = ReadDiceCSV(mnist_train_dir_csv)\n",
    "mnist_x = mnist_x.reshape((60000, 28, -1))\n",
    "print(\"minst:\")\n",
    "print(f\"Label Shape: {mnist_y.shape} has NAN: {np.isnan(mnist_y).any()}\")\n",
    "print(f\"Values : {np.unique(mnist_y)}\")\n",
    "print(f\"Data Shape: {mnist_x.shape} has NAN: {np.isnan(mnist_x).any()}\")\n",
    "print(f\"Values : {np.unique(mnist_x)}\")\n",
    "\n",
    "cifar_y, cifar_x = ReadDiceCSV(cifar_all_dir_csv)\n",
    "cifar_x = cifar_x.reshape((50000, 28, -1))\n",
    "print(\"cifar:\")\n",
    "print(f\"Label Shape: {cifar_y.shape} has NAN: {np.isnan(cifar_y).any()}\")\n",
    "print(f\"Values : {np.unique(cifar_y)}\")\n",
    "print(f\"Data Shape: {cifar_x.shape} has NAN: {np.isnan(cifar_x).any()}\")\n",
    "print(f\"Values : {np.unique(cifar_x)}\")"
   ]
  },
  {
   "cell_type": "code",
   "execution_count": 17,
   "metadata": {},
   "outputs": [
    {
     "data": {
      "image/png": "[encoded data removed]",
      "text/plain": [
       "<Figure size 640x480 with 1 Axes>"
      ]
     },
     "metadata": {},
     "output_type": "display_data"
    },
    {
     "data": {
      "image/png": "[encoded data removed]",
      "text/plain": [
       "<Figure size 640x480 with 1 Axes>"
      ]
     },
     "metadata": {},
     "output_type": "display_data"
    },
    {
     "data": {
      "image/png": "[encoded data removed]",
      "text/plain": [
       "<Figure size 640x480 with 1 Axes>"
      ]
     },
     "metadata": {},
     "output_type": "display_data"
    }
   ],
   "source": [
    "index_60000 = 118873 % 60000\n",
    "index_50000 = 118873 % 50000\n",
    "\n",
    "image_dice = dice_x[index_60000]\n",
    "plt.imshow(image_dice, cmap='gray')\n",
    "plt.title(f'Dice {index_60000}, value: {dice_y[index_60000]}')\n",
    "plt.axis('off')  # Wyłącz osie\n",
    "plt.show()\n",
    "\n",
    "image_mnist = mnist_x[index_60000]\n",
    "plt.imshow(image_mnist, cmap='gray')\n",
    "plt.title(f'Mnist {index_60000}, value: {mnist_y[index_60000]}')\n",
    "plt.axis('off')  # Wyłącz osie\n",
    "plt.show()\n",
    "\n",
    "image_cifar = cifar_x[index_50000]\n",
    "plt.imshow(image_cifar, cmap='gray')\n",
    "plt.title(f'Cifar {index_50000}, value: {cifar_y[index_50000]}')\n",
    "plt.axis('off')  # Wyłącz osie\n",
    "plt.show()"
   ]
  },
  {
   "cell_type": "code",
   "execution_count": 37,
   "metadata": {
    "tags": [
     "parameters"
    ]
   },
   "outputs": [
    {
     "name": "stdout",
     "output_type": "stream",
     "text": [
      "torch.Size([60000, 28, 28])\n",
      "Epoch [1/10], Loss: 0.8308\n",
      "Epoch [2/10], Loss: 0.4769\n",
      "Epoch [3/10], Loss: 0.4335\n",
      "Epoch [4/10], Loss: 0.1179\n",
      "Epoch [5/10], Loss: 0.0904\n",
      "Epoch [6/10], Loss: 0.0802\n",
      "Epoch [7/10], Loss: 0.0902\n",
      "Epoch [8/10], Loss: 0.0487\n",
      "Epoch [9/10], Loss: 0.0111\n",
      "Epoch [10/10], Loss: 0.0148\n",
      "Accuracy on test set: 98.31%\n"
     ]
    }
   ],
   "source": [
    "x_normalized = torch.tensor(dice_x / 255.0, dtype=torch.float32)\n",
    "print(x_normalized.size())\n",
    "y_tensor = torch.tensor(dice_y, dtype=torch.int64)\n",
    "\n",
    "# Podziel dane na zbiory treningowy i testowy\n",
    "x_train, x_test, y_train, y_test = train_test_split(x_normalized, y_tensor, test_size=0.2, random_state=42, stratify=y_tensor)\n",
    "# Dodanie wymiaru dla kanałow obrazu\n",
    "x_train = x_train.unsqueeze(1)\n",
    "x_test = x_test.unsqueeze(1)\n",
    "# Odjęcie 1 od etykiet, aby dane były z zakresu 0-5, nie wypływa to na model,\n",
    "# trzeba pamiętać że po tej operacji wyniki nie odpowiadają wprost na rzeczywistą liczbą oczek\n",
    "y_train = y_train -1\n",
    "y_test =  y_test -1\n",
    "# Twórz obiekty DataLoader dla danych treningowych i testowych\n",
    "batch_size = 64\n",
    "train_dataset = TensorDataset(x_train, y_train)\n",
    "train_loader = DataLoader(train_dataset, batch_size=batch_size, shuffle=True)\n",
    "test_dataset = TensorDataset(x_test, y_test)\n",
    "test_loader = DataLoader(test_dataset, batch_size=batch_size, shuffle=False)\n",
    "\n",
    "# Definiuj model sieci konwolucyjnej\n",
    "class CNN(nn.Module):\n",
    "    def __init__(self):\n",
    "        super(CNN, self).__init__()\n",
    "        self.conv1 = nn.Conv2d(1, 32, kernel_size=3, stride=1, padding=1)\n",
    "        self.conv2 = nn.Conv2d(32, 64, kernel_size=3, stride=1, padding=1)\n",
    "        self.pool = nn.MaxPool2d(2, 2)\n",
    "        self.fc1 = nn.Linear(64 * 7 * 7, 64)\n",
    "        self.fc2 = nn.Linear(64, 6)  # Warstwa wyjściowa z 6 klasami\n",
    "\n",
    "    def forward(self, x):\n",
    "        x = self.pool(torch.relu(self.conv1(x)))\n",
    "        x = self.pool(torch.relu(self.conv2(x)))\n",
    "        x = x.view(-1, 64 * 7 * 7)\n",
    "        x = torch.relu(self.fc1(x))\n",
    "        x = self.fc2(x)\n",
    "        return x\n",
    "\n",
    "# Inicjalizuj model\n",
    "model = CNN()\n",
    "\n",
    "# Definiuj funkcję straty i optymizator\n",
    "criterion = nn.CrossEntropyLoss()\n",
    "optimizer = optim.Adam(model.parameters(), lr=0.001)\n",
    "\n",
    "# Trenuj model\n",
    "num_epochs = 10\n",
    "for epoch in range(num_epochs):\n",
    "    for images, labels in train_loader:\n",
    "        optimizer.zero_grad()\n",
    "        outputs = model(images)\n",
    "        loss = criterion(outputs, labels)\n",
    "        loss.backward()\n",
    "        optimizer.step()\n",
    "    print(f'Epoch [{epoch+1}/{num_epochs}], Loss: {loss.item():.4f}')\n",
    "\n",
    "# Ocena dokładności modelu na zbiorze testowym\n",
    "with torch.no_grad():\n",
    "    correct = 0\n",
    "    total = 0\n",
    "    for images, labels in test_loader:\n",
    "        outputs = model(images)\n",
    "        _, predicted = torch.max(outputs.data, 1)\n",
    "        total += labels.size(0)\n",
    "        correct += (predicted == labels).sum().item()\n",
    "    accuracy = 100 * correct / total\n",
    "    print(f'Accuracy on test set: {accuracy:.2f}%')"
   ]
  },
  {
   "cell_type": "code",
   "execution_count": 40,
   "metadata": {},
   "outputs": [
    {
     "name": "stdout",
     "output_type": "stream",
     "text": [
      "combined:\n",
      "Label Shape: torch.Size([170000]) has NAN: 0\n",
      "Values : [0 1 2]\n",
      "Data Shape: torch.Size([170000, 28, 28]) has NAN: 0\n",
      "Values : [  0   1   2   3   4   5   6   7   8   9  10  11  12  13  14  15  16  17\n",
      "  18  19  20  21  22  23  24  25  26  27  28  29  30  31  32  33  34  35\n",
      "  36  37  38  39  40  41  42  43  44  45  46  47  48  49  50  51  52  53\n",
      "  54  55  56  57  58  59  60  61  62  63  64  65  66  67  68  69  70  71\n",
      "  72  73  74  75  76  77  78  79  80  81  82  83  84  85  86  87  88  89\n",
      "  90  91  92  93  94  95  96  97  98  99 100 101 102 103 104 105 106 107\n",
      " 108 109 110 111 112 113 114 115 116 117 118 119 120 121 122 123 124 125\n",
      " 126 127 128 129 130 131 132 133 134 135 136 137 138 139 140 141 142 143\n",
      " 144 145 146 147 148 149 150 151 152 153 154 155 156 157 158 159 160 161\n",
      " 162 163 164 165 166 167 168 169 170 171 172 173 174 175 176 177 178 179\n",
      " 180 181 182 183 184 185 186 187 188 189 190 191 192 193 194 195 196 197\n",
      " 198 199 200 201 202 203 204 205 206 207 208 209 210 211 212 213 214 215\n",
      " 216 217 218 219 220 221 222 223 224 225 226 227 228 229 230 231 232 233\n",
      " 234 235 236 237 238 239 240 241 242 243 244 245 246 247 248 249 250 251\n",
      " 252 253 254 255]\n"
     ]
    }
   ],
   "source": [
    "labels1 = torch.zeros(len(dice_x), dtype=torch.long)  # Etykiety dla pierwszego zbioru danych\n",
    "labels2 = torch.ones(len(mnist_x), dtype=torch.long)   # Etykiety dla drugiego zbioru danych\n",
    "labels3 = torch.full((len(cifar_x),), 2, dtype=torch.long)  # Etykiety dla trzeciego zbioru danych\n",
    "\n",
    "# Połącz zbiory danych w jeden\n",
    "combined_data = torch.cat((torch.tensor(dice_x), torch.tensor(mnist_x), torch.tensor(cifar_x)), dim=0)\n",
    "\n",
    "# Połącz etykiety w jeden tensor\n",
    "combined_labels = torch.cat((labels1, labels2, labels3), dim=0)\n",
    "\n",
    "\n",
    "print(\"combined:\")\n",
    "print(f\"Label Shape: {combined_labels.shape} has NAN: {np.isnan(combined_labels).any()}\")\n",
    "print(f\"Values : {np.unique(combined_labels)}\")\n",
    "print(f\"Data Shape: {combined_data.shape} has NAN: {np.isnan(combined_data).any()}\")\n",
    "print(f\"Values : {np.unique(combined_data)}\")"
   ]
  },
  {
   "cell_type": "code",
   "execution_count": 44,
   "metadata": {},
   "outputs": [
    {
     "name": "stdout",
     "output_type": "stream",
     "text": [
      "torch.Size([170000, 28, 28])\n",
      "Epoch [1/10], Loss: 0.0019\n",
      "Epoch [2/10], Loss: 0.0044\n",
      "Epoch [3/10], Loss: 0.0118\n",
      "Epoch [4/10], Loss: 0.0000\n",
      "Epoch [5/10], Loss: 0.0004\n",
      "Epoch [6/10], Loss: 0.0000\n",
      "Epoch [7/10], Loss: 0.0000\n",
      "Epoch [8/10], Loss: 0.0000\n",
      "Epoch [9/10], Loss: 0.0001\n",
      "Epoch [10/10], Loss: 0.0000\n",
      "Accuracy on test set: 99.97%\n"
     ]
    }
   ],
   "source": [
    "x_normalized = combined_data.clone().detach() / 255.0\n",
    "print(x_normalized.size())\n",
    "y_tensor = combined_labels.clone().detach().long()\n",
    "\n",
    "# Podziel dane na zbiory treningowy i testowy\n",
    "x_train, x_test, y_train, y_test = train_test_split(x_normalized, y_tensor, test_size=0.2, random_state=42, stratify=y_tensor)\n",
    "# Dodanie wymiaru dla kanałow obrazu\n",
    "x_train = x_train.unsqueeze(1)\n",
    "x_test = x_test.unsqueeze(1)\n",
    "# Twórz obiekty DataLoader dla danych treningowych i testowych\n",
    "batch_size = 64\n",
    "train_dataset = TensorDataset(x_train, y_train)\n",
    "train_loader = DataLoader(train_dataset, batch_size=batch_size, shuffle=True)\n",
    "test_dataset = TensorDataset(x_test, y_test)\n",
    "test_loader = DataLoader(test_dataset, batch_size=batch_size, shuffle=False)\n",
    "\n",
    "# Definiuj model sieci konwolucyjnej\n",
    "class CNN(nn.Module):\n",
    "    def __init__(self):\n",
    "        super(CNN, self).__init__()\n",
    "        self.conv1 = nn.Conv2d(1, 32, kernel_size=3, stride=1, padding=1)\n",
    "        self.conv2 = nn.Conv2d(32, 64, kernel_size=3, stride=1, padding=1)\n",
    "        self.pool = nn.MaxPool2d(2, 2)\n",
    "        self.fc1 = nn.Linear(64 * 7 * 7, 64)\n",
    "        self.fc2 = nn.Linear(64, 3)  # Warstwa wyjściowa z 6 klasami\n",
    "\n",
    "    def forward(self, x):\n",
    "        x = self.pool(torch.relu(self.conv1(x)))\n",
    "        x = self.pool(torch.relu(self.conv2(x)))\n",
    "        x = x.view(-1, 64 * 7 * 7)\n",
    "        x = torch.relu(self.fc1(x))\n",
    "        x = self.fc2(x)\n",
    "        return x\n",
    "\n",
    "# Inicjalizuj model\n",
    "model = CNN()\n",
    "\n",
    "# Definiuj funkcję straty i optymizator\n",
    "criterion = nn.CrossEntropyLoss()\n",
    "optimizer = optim.Adam(model.parameters(), lr=0.001)\n",
    "\n",
    "# Trenuj model\n",
    "num_epochs = 10\n",
    "for epoch in range(num_epochs):\n",
    "    for images, labels in train_loader:\n",
    "        optimizer.zero_grad()\n",
    "        outputs = model(images)\n",
    "        loss = criterion(outputs, labels)\n",
    "        loss.backward()\n",
    "        optimizer.step()\n",
    "    print(f'Epoch [{epoch+1}/{num_epochs}], Loss: {loss.item():.4f}')\n",
    "\n",
    "# Ocena dokładności modelu na zbiorze testowym\n",
    "with torch.no_grad():\n",
    "    correct = 0\n",
    "    total = 0\n",
    "    for images, labels in test_loader:\n",
    "        outputs = model(images)\n",
    "        _, predicted = torch.max(outputs.data, 1)\n",
    "        total += labels.size(0)\n",
    "        correct += (predicted == labels).sum().item()\n",
    "    accuracy = 100 * correct / total\n",
    "    print(f'Accuracy on test set: {accuracy:.2f}%')"
   ]
  }
 ],
 "metadata": {
  "kernelspec": {
   "display_name": "Python 3",
   "language": "python",
   "name": "python3"
  },
  "language_info": {
   "codemirror_mode": {
    "name": "ipython",
    "version": 3
   },
   "file_extension": ".py",
   "mimetype": "text/x-python",
   "name": "python",
   "nbconvert_exporter": "python",
   "pygments_lexer": "ipython3",
   "version": "3.10.10"
  }
 },
 "nbformat": 4,
 "nbformat_minor": 2
}
